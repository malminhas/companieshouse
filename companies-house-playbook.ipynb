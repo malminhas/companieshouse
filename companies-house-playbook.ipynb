{
 "cells": [
  {
   "cell_type": "markdown",
   "id": "c05b4bf1-bf4c-4e93-afd2-bd94cc72596f",
   "metadata": {},
   "source": [
    "# Companies House"
   ]
  },
  {
   "cell_type": "markdown",
   "id": "966c62d7-3542-40d2-af83-4a65e1e1169b",
   "metadata": {},
   "source": [
    "<p>\n",
    "Mal Minhas, v0.1<br>\n",
    "27.10.24\n",
    "</p>\n",
    "<p>\n",
    "<h4>Versions</h4>\n",
    "<ul>\n",
    "<li><b>v0.1</b>: 27.10.24. First version focussed only on REST API</li>\n",
    "</ul>\n",
    "</p>"
   ]
  },
  {
   "cell_type": "markdown",
   "id": "72e50865-6793-4863-87b4-9ee01a033e7f",
   "metadata": {},
   "source": [
    "### 1. Introduction"
   ]
  },
  {
   "cell_type": "markdown",
   "id": "c5154856-462e-4e6b-8a01-d996196d1fa3",
   "metadata": {},
   "source": [
    "This playbook provides a brief outline of how to access the Companies House (CH) REST API per the developer documentation available [here](https://developer.company-information.service.gov.uk/overview).  In order to follow along and use this playbook you will first need to [create an application](https://developer.company-information.service.gov.uk/how-to-create-an-application/) and associated API key that you will need to access the CH API.  Note that you can set up applications and keys to communicate with either a Sandbox endpoint which is read/write or the public API which is just read.  These endpoints are located at the following endpoints:\n",
    "* **Sandbox API endpoint**: test-data-sandbox.company-information.service.gov.uk\n",
    "* **Public API endpoint**: api.company-information.service.gov.uk\n",
    "\n",
    "This notebook will focus only on the public read endpoint."
   ]
  },
  {
   "cell_type": "markdown",
   "id": "e56a78d7-157b-4d51-ba92-d1d0bde121a5",
   "metadata": {},
   "source": [
    "### 1. Authorisation"
   ]
  },
  {
   "cell_type": "markdown",
   "id": "be7b3283-810d-409d-ba26-dfda71642712",
   "metadata": {},
   "source": [
    "The CH REST API uses [HTTP Basic Auth](https://en.wikipedia.org/wiki/Basic_access_authentication) for GET requests in a CLI tool.  There is an OAuth2 flow as well which appears to be required for certain types of sensitive access. For instance obtaining [user profile](https://developer-specs.company-information.service.gov.uk/companies-house-identity-service/reference/user-details/user-profile) information from the endpoint at https://identity.company-information.service.gov.uk/user/profile requires going through OAuth2 flow to obtain a `client_id` and `client_secret` per the documentation [here](https://developer-specs.company-information.service.gov.uk/companies-house-identity-service/guides/ServerWeb).  This playbook is going to focus on the simple REST API access use case only rather than the web flow one which is more involved as it requires setting up a web server to handle the redirect."
   ]
  },
  {
   "cell_type": "markdown",
   "id": "6437642b-b3e0-44b5-996e-6d5d067c1931",
   "metadata": {},
   "source": [
    "### 2. Company Profile"
   ]
  },
  {
   "cell_type": "markdown",
   "id": "961ead41-88ad-4eef-9971-495dba4cfc5e",
   "metadata": {},
   "source": [
    "Let's start with the most basic information which relates to company profile.  The following function `getCompanyInfo` will retrieve that information:"
   ]
  },
  {
   "cell_type": "code",
   "execution_count": 1,
   "id": "9a65f622-dfde-45dc-90d5-8c8efd5d7c37",
   "metadata": {},
   "outputs": [],
   "source": [
    "import os\n",
    "import requests\n",
    "\n",
    "API_KEY = os.environ.get('COMPANIES_HOUSE_API_KEY')\n",
    "\n",
    "def procUrl(url, query_params={}, verbose=False):\n",
    "    r = requests.get(url, auth=(API_KEY, ''), params=query_params)\n",
    "    if verbose:\n",
    "        print(\"-------------------------\")\n",
    "        print(f\"URL: {r.request.url}\")\n",
    "        print(f\"Body: {r.request.body}\")\n",
    "        hdrs = \"\"\n",
    "        for k,v in r.request.headers.items():\n",
    "            hdrs += f\"  {k}:{v}\\n\"\n",
    "        print(f\"Headers:\\n{hdrs[:-1]}\")\n",
    "        print(\"-------------------------\")\n",
    "    if r.status_code != 200:\n",
    "        raise Exception(f\"Error {r.status_code}: '{r.text}'\")\n",
    "    return r.json()  # if response is JSON format\n",
    "\n",
    "def getCompanyProfile(id):\n",
    "    directive = \"company\"\n",
    "    url = f\"https://api.company-information.service.gov.uk/{directive}/{id}\"\n",
    "    return procUrl(url)"
   ]
  },
  {
   "cell_type": "markdown",
   "id": "069db22c-6df4-4954-a33b-080979a58baa",
   "metadata": {},
   "source": [
    "We can use it to find out information about a company called [Oppian](https://find-and-update.company-information.service.gov.uk/company/06782942) which has a company number 06782942 which we obtained from using the CH web search interface."
   ]
  },
  {
   "cell_type": "code",
   "execution_count": 2,
   "id": "7e9ab54b-01e8-4018-b0ef-db789482008b",
   "metadata": {},
   "outputs": [
    {
     "name": "stdout",
     "output_type": "stream",
     "text": [
      "OPPIAN SYSTEMS LIMITED has company id=06782942 is active and has registered address:\n",
      "C/O High Royd Business Services Limited B B I C, Innovation Way, Barnsley, South Yorkshire, S75 1JL, United Kingdom\n"
     ]
    }
   ],
   "source": [
    "def procAddress(data):\n",
    "    ''' ChatGPT Python GPT assisted :-) '''\n",
    "    # Extract the registered office address from the data\n",
    "    address = data.get('registered_office_address', {})\n",
    "    # Retrieve each part of the address, or an empty string if it doesn't exist\n",
    "    address_line_1 = address.get('address_line_1', '')\n",
    "    address_line_2 = address.get('address_line_2', '')\n",
    "    locality = address.get('locality', '')\n",
    "    region = address.get('region', '')\n",
    "    postal_code = address.get('postal_code', '')\n",
    "    country = address.get('country', '')\n",
    "    # Concatenate all parts with commas, filtering out empty strings\n",
    "    full_address = ', '.join(filter(None, [address_line_1, address_line_2, locality, region, postal_code, country]))\n",
    "    return full_address\n",
    "\n",
    "companyId = '06782942'\n",
    "d = getCompanyProfile(companyId)\n",
    "print(f\"{d.get('company_name')} has company id={d.get('company_number')} is {d.get('company_status')} and has registered address:\\n{procAddress(d)}\")"
   ]
  },
  {
   "cell_type": "markdown",
   "id": "fdf07832-c693-4706-b5ac-d4fe4e592192",
   "metadata": {},
   "source": [
    "### 3. Company Details"
   ]
  },
  {
   "cell_type": "markdown",
   "id": "15772aa0-4a83-442e-a9cd-efe4146a845d",
   "metadata": {},
   "source": [
    "Let's have a look at extracting information about getting a list of [persons with significant control](https://developer-specs.company-information.service.gov.uk/companies-house-public-data-api/reference/persons-with-significant-control/list?v=latest) which is obtained from https://api.company-information.service.gov.uk/company/{company_number}/persons-with-significant-control:"
   ]
  },
  {
   "cell_type": "code",
   "execution_count": 3,
   "id": "de1480d2-86d7-4d88-b8a4-fdbfa53071df",
   "metadata": {},
   "outputs": [
    {
     "name": "stdout",
     "output_type": "stream",
     "text": [
      "Found 2 persons with significant control\n"
     ]
    }
   ],
   "source": [
    "def getPersonsWithSignificantControl(id):\n",
    "    directive = f\"company/{id}/persons-with-significant-control\"\n",
    "    url = f\"https://api.company-information.service.gov.uk/{directive}\"\n",
    "    params = {'start_index':0, 'items_per_page': 10, 'register_view':'false'}\n",
    "    return procUrl(url, params, verbose=False)\n",
    "\n",
    "d = getPersonsWithSignificantControl(companyId)\n",
    "print(f\"Found {len(d.get('items'))} persons with significant control\")"
   ]
  },
  {
   "cell_type": "markdown",
   "id": "29292515-fdd9-4e95-a7b1-c34a041ce2cd",
   "metadata": {},
   "source": [
    "### 4. Search"
   ]
  },
  {
   "cell_type": "markdown",
   "id": "a9b423ed-b9f9-4b5b-940d-949c8079c95c",
   "metadata": {},
   "source": [
    "We can also conduct search programmatically to mirror the search user interface [here](https://find-and-update.company-information.service.gov.uk/):"
   ]
  },
  {
   "cell_type": "code",
   "execution_count": 4,
   "id": "198d011e-db9a-48c1-a4b5-5a1c213ad8fd",
   "metadata": {},
   "outputs": [],
   "source": [
    "def searchCompany(category, name, nitems=10, start_index=0):\n",
    "    directive = f\"search/{category}\"\n",
    "    url = f\"https://api.company-information.service.gov.uk/{directive}?q={name}&start_index=0\"\n",
    "    return procUrl(url)"
   ]
  },
  {
   "cell_type": "code",
   "execution_count": 5,
   "id": "c45842f4-124e-4dd7-9461-c48cae8296eb",
   "metadata": {},
   "outputs": [],
   "source": [
    "d = searchCompany('companies','Oppian')"
   ]
  },
  {
   "cell_type": "markdown",
   "id": "eca5c72f-ab6e-4553-86f0-b58af7ae68f4",
   "metadata": {},
   "source": [
    "A cursory look at this data reveals the same information:"
   ]
  },
  {
   "cell_type": "code",
   "execution_count": 6,
   "id": "5363728e-374a-4977-9d70-ea2f206598a6",
   "metadata": {},
   "outputs": [
    {
     "name": "stdout",
     "output_type": "stream",
     "text": [
      "Company 'OPPIAN SYSTEMS LIMITED' with company id=06782942 has description 06782942\n"
     ]
    }
   ],
   "source": [
    "company_title = d.get('items')[0].get('title')\n",
    "company_id = d.get('items')[0].get('company_number')\n",
    "company_description = d.get('items')[0].get('company_number')\n",
    "print(f\"Company '{company_title}' with company id={company_id} has description {company_description}\")"
   ]
  }
 ],
 "metadata": {
  "kernelspec": {
   "display_name": "Python 3 (ipykernel)",
   "language": "python",
   "name": "python3"
  },
  "language_info": {
   "codemirror_mode": {
    "name": "ipython",
    "version": 3
   },
   "file_extension": ".py",
   "mimetype": "text/x-python",
   "name": "python",
   "nbconvert_exporter": "python",
   "pygments_lexer": "ipython3",
   "version": "3.11.9"
  }
 },
 "nbformat": 4,
 "nbformat_minor": 5
}
