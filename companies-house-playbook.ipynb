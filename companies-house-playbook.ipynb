{
 "cells": [
  {
   "cell_type": "markdown",
   "id": "c05b4bf1-bf4c-4e93-afd2-bd94cc72596f",
   "metadata": {},
   "source": [
    "# Companies House"
   ]
  },
  {
   "cell_type": "markdown",
   "id": "966c62d7-3542-40d2-af83-4a65e1e1169b",
   "metadata": {},
   "source": [
    "<p>\n",
    "Mal Minhas, v0.2<br>\n",
    "28.10.24\n",
    "</p>\n",
    "<p>\n",
    "<h4>Versions</h4>\n",
    "<ul>\n",
    "<li><b>v0.1</b>: 27.10.24. First version focussed only on REST API.</li>\n",
    "<li><b>v0.2</b>: 28.10.24. Added support for document processing.</li>\n",
    "</ul>\n",
    "</p>"
   ]
  },
  {
   "cell_type": "markdown",
   "id": "72e50865-6793-4863-87b4-9ee01a033e7f",
   "metadata": {},
   "source": [
    "### 1. Introduction"
   ]
  },
  {
   "cell_type": "markdown",
   "id": "c5154856-462e-4e6b-8a01-d996196d1fa3",
   "metadata": {},
   "source": [
    "This playbook provides a brief outline of how to access the Companies House (CH) REST API per the developer documentation available [here](https://developer.company-information.service.gov.uk/overview).  In order to follow along and use this playbook you will first need to [create an application](https://developer.company-information.service.gov.uk/how-to-create-an-application/) and associated API key that you will need to access the CH API.  Note that you can set up applications and keys to communicate with either a Sandbox endpoint which is read/write or the public API which is just read.  These endpoints are located at the following endpoints:\n",
    "* **Sandbox API endpoint**: test-data-sandbox.company-information.service.gov.uk\n",
    "* **Public API endpoint**: api.company-information.service.gov.uk\n",
    "\n",
    "This notebook will focus only on the public read endpoint."
   ]
  },
  {
   "cell_type": "markdown",
   "id": "e56a78d7-157b-4d51-ba92-d1d0bde121a5",
   "metadata": {},
   "source": [
    "### 1. Authorisation"
   ]
  },
  {
   "cell_type": "markdown",
   "id": "be7b3283-810d-409d-ba26-dfda71642712",
   "metadata": {},
   "source": [
    "The CH REST API uses [HTTP Basic Auth](https://en.wikipedia.org/wiki/Basic_access_authentication) for GET requests in a CLI tool.  There is an OAuth2 flow as well which appears to be required for certain types of sensitive access. For instance obtaining [user profile](https://developer-specs.company-information.service.gov.uk/companies-house-identity-service/reference/user-details/user-profile) information from the endpoint at https://identity.company-information.service.gov.uk/user/profile requires going through OAuth2 flow to obtain a `client_id` and `client_secret` per the documentation [here](https://developer-specs.company-information.service.gov.uk/companies-house-identity-service/guides/ServerWeb).  This playbook is going to focus on the simple REST API access use case only rather than the web flow one which is more involved as it requires setting up a web server to handle the redirect."
   ]
  },
  {
   "cell_type": "markdown",
   "id": "15c5e499-752b-47c8-a779-899ee4381238",
   "metadata": {},
   "source": [
    "CH will be [migrating to the Gov UK One Login scheme](https://www.gov.uk/government/news/companies-house-to-join-govuk-one-login) in Autumn 2024. "
   ]
  },
  {
   "cell_type": "markdown",
   "id": "6437642b-b3e0-44b5-996e-6d5d067c1931",
   "metadata": {},
   "source": [
    "### 2. Company Profile"
   ]
  },
  {
   "cell_type": "markdown",
   "id": "961ead41-88ad-4eef-9971-495dba4cfc5e",
   "metadata": {},
   "source": [
    "Let's start with the most basic information which relates to company profile.  The following function `getCompanyInfo` will retrieve that information:"
   ]
  },
  {
   "cell_type": "code",
   "execution_count": 1,
   "id": "9a65f622-dfde-45dc-90d5-8c8efd5d7c37",
   "metadata": {},
   "outputs": [],
   "source": [
    "import os\n",
    "import requests\n",
    "\n",
    "API_KEY = os.environ.get('COMPANIES_HOUSE_API_KEY')\n",
    "\n",
    "def procUrl(url, query_params={}, verbose=False):\n",
    "    r = requests.get(url, auth=(API_KEY, ''), params=query_params)\n",
    "    if verbose:\n",
    "        print(\"-------------------------\")\n",
    "        print(f\"URL: {r.request.url}\")\n",
    "        print(f\"Body: {r.request.body}\")\n",
    "        hdrs = \"\"\n",
    "        for k,v in r.request.headers.items():\n",
    "            hdrs += f\"  {k}:{v}\\n\"\n",
    "        print(f\"Headers:\\n{hdrs[:-1]}\")\n",
    "        print(\"-------------------------\")\n",
    "    if r.status_code != 200:\n",
    "        raise Exception(f\"Error {r.status_code}: '{r.text}'\")\n",
    "    return r.json()  # if response is JSON format\n",
    "\n",
    "def getCompanyProfile(company_id):\n",
    "    directive = \"company\"\n",
    "    url = f\"https://api.company-information.service.gov.uk/{directive}/{company_id}\"\n",
    "    return procUrl(url)"
   ]
  },
  {
   "cell_type": "markdown",
   "id": "069db22c-6df4-4954-a33b-080979a58baa",
   "metadata": {},
   "source": [
    "We can use it to find out information about a company called [Oppian](https://find-and-update.company-information.service.gov.uk/company/06782942) which has a company number 06782942 which we obtained from using the CH web search interface."
   ]
  },
  {
   "cell_type": "code",
   "execution_count": 2,
   "id": "7e9ab54b-01e8-4018-b0ef-db789482008b",
   "metadata": {},
   "outputs": [
    {
     "name": "stdout",
     "output_type": "stream",
     "text": [
      "OPPIAN SYSTEMS LIMITED has company id=06782942 is active and has registered address:\n",
      "C/O High Royd Business Services Limited B B I C, Innovation Way, Barnsley, South Yorkshire, S75 1JL, United Kingdom\n"
     ]
    }
   ],
   "source": [
    "def procAddress(data):\n",
    "    ''' ChatGPT Python GPT assisted :-) '''\n",
    "    # Extract the registered office address from the data\n",
    "    address = data.get('registered_office_address', {})\n",
    "    # Retrieve each part of the address, or an empty string if it doesn't exist\n",
    "    address_line_1 = address.get('address_line_1', '')\n",
    "    address_line_2 = address.get('address_line_2', '')\n",
    "    locality = address.get('locality', '')\n",
    "    region = address.get('region', '')\n",
    "    postal_code = address.get('postal_code', '')\n",
    "    country = address.get('country', '')\n",
    "    # Concatenate all parts with commas, filtering out empty strings\n",
    "    full_address = ', '.join(filter(None, [address_line_1, address_line_2, locality, region, postal_code, country]))\n",
    "    return full_address\n",
    "\n",
    "companyId = '06782942'\n",
    "d = getCompanyProfile(companyId)\n",
    "print(f\"{d.get('company_name')} has company id={d.get('company_number')} is {d.get('company_status')} and has registered address:\\n{procAddress(d)}\")"
   ]
  },
  {
   "cell_type": "markdown",
   "id": "fdf07832-c693-4706-b5ac-d4fe4e592192",
   "metadata": {},
   "source": [
    "### 3. Company Details"
   ]
  },
  {
   "cell_type": "markdown",
   "id": "15772aa0-4a83-442e-a9cd-efe4146a845d",
   "metadata": {},
   "source": [
    "Let's have a look at extracting information about getting a list of [persons with significant control](https://developer-specs.company-information.service.gov.uk/companies-house-public-data-api/reference/persons-with-significant-control/list?v=latest) which is obtained from https://api.company-information.service.gov.uk/company/{company_number}/persons-with-significant-control:"
   ]
  },
  {
   "cell_type": "code",
   "execution_count": 3,
   "id": "de1480d2-86d7-4d88-b8a4-fdbfa53071df",
   "metadata": {},
   "outputs": [
    {
     "name": "stdout",
     "output_type": "stream",
     "text": [
      "Found 2 persons with significant control\n"
     ]
    }
   ],
   "source": [
    "def getPersonsWithSignificantControl(company_id):\n",
    "    directive = f\"company/{company_id}/persons-with-significant-control\"\n",
    "    url = f\"https://api.company-information.service.gov.uk/{directive}\"\n",
    "    params = {'start_index':0, 'items_per_page':10, 'register_view':'false'}\n",
    "    return procUrl(url, params, verbose=False)\n",
    "\n",
    "d = getPersonsWithSignificantControl(companyId)\n",
    "print(f\"Found {len(d.get('items'))} persons with significant control\")"
   ]
  },
  {
   "cell_type": "markdown",
   "id": "29292515-fdd9-4e95-a7b1-c34a041ce2cd",
   "metadata": {},
   "source": [
    "### 4. Search"
   ]
  },
  {
   "cell_type": "markdown",
   "id": "a9b423ed-b9f9-4b5b-940d-949c8079c95c",
   "metadata": {},
   "source": [
    "We can also conduct search programmatically to mirror the search user interface [here](https://find-and-update.company-information.service.gov.uk/):"
   ]
  },
  {
   "cell_type": "code",
   "execution_count": 4,
   "id": "198d011e-db9a-48c1-a4b5-5a1c213ad8fd",
   "metadata": {},
   "outputs": [],
   "source": [
    "def searchCompany(category, search_string, nitems=10, start_index=0):\n",
    "    directive = f\"search/{category}\"\n",
    "    url = f\"https://api.company-information.service.gov.uk/{directive}\"\n",
    "    params = {'q':search_string, 'start_index':0}\n",
    "    return procUrl(url, params)"
   ]
  },
  {
   "cell_type": "code",
   "execution_count": 5,
   "id": "c45842f4-124e-4dd7-9461-c48cae8296eb",
   "metadata": {},
   "outputs": [],
   "source": [
    "d = searchCompany('companies','Oppian')"
   ]
  },
  {
   "cell_type": "markdown",
   "id": "eca5c72f-ab6e-4553-86f0-b58af7ae68f4",
   "metadata": {},
   "source": [
    "A cursory look at this data reveals the same information:"
   ]
  },
  {
   "cell_type": "code",
   "execution_count": 6,
   "id": "5363728e-374a-4977-9d70-ea2f206598a6",
   "metadata": {},
   "outputs": [
    {
     "name": "stdout",
     "output_type": "stream",
     "text": [
      "Company 'OPPIAN SYSTEMS LIMITED' with company id=06782942 has description 06782942\n"
     ]
    }
   ],
   "source": [
    "company_title = d.get('items')[0].get('title')\n",
    "company_id = d.get('items')[0].get('company_number')\n",
    "company_description = d.get('items')[0].get('company_number')\n",
    "print(f\"Company '{company_title}' with company id={company_id} has description {company_description}\")"
   ]
  },
  {
   "cell_type": "markdown",
   "id": "213014bd-8bfb-4e9e-be89-d9503bade463",
   "metadata": {},
   "source": [
    "### 5. Documents"
   ]
  },
  {
   "cell_type": "markdown",
   "id": "63b198d9-69a2-4cdd-bc4c-75466c5e45d1",
   "metadata": {},
   "source": [
    "Let's get the filing history for the company using https://api.company-information.service.gov.uk/company/{company_number}/filing-history per the documentation [here](https://developer-specs.company-information.service.gov.uk/companies-house-public-data-api/reference/filing-history/list?v=latest):"
   ]
  },
  {
   "cell_type": "code",
   "execution_count": 7,
   "id": "9ee58820-1a50-4593-a2af-c94c7c885d71",
   "metadata": {},
   "outputs": [],
   "source": [
    "def getFilingHistory(company_id):\n",
    "    directive = f\"company/{company_id}/filing-history\"\n",
    "    url = f\"https://api.company-information.service.gov.uk/{directive}\"\n",
    "    return procUrl(url)\n",
    "\n",
    "d = getFilingHistory(companyId)"
   ]
  },
  {
   "cell_type": "markdown",
   "id": "52145fcf-01ea-4710-8112-ae35179969a3",
   "metadata": {},
   "source": [
    "Let's pick up the doc id from the first entry:"
   ]
  },
  {
   "cell_type": "code",
   "execution_count": 8,
   "id": "ba28a080-16fb-4165-b30a-52666353456f",
   "metadata": {},
   "outputs": [
    {
     "name": "stdout",
     "output_type": "stream",
     "text": [
      "Found 9 accounts records\n"
     ]
    }
   ],
   "source": [
    "def getDocId(url):\n",
    "    # Strip any trailing slashes and split the URL by '/'\n",
    "    parts = url.rstrip('/').split('/')\n",
    "    # Return the last part\n",
    "    return parts[-1]\n",
    "\n",
    "accounts = []\n",
    "for dd in d.get('items'):\n",
    "    if dd.get('category') == 'accounts':\n",
    "        doc_date = dd.get('date')\n",
    "        doc_id = getDocId(dd.get('links').get('document_metadata'))\n",
    "        accounts.append({'doc_date':doc_date,'doc_id':doc_id})\n",
    "print(f\"Found {len(accounts)} accounts records\")"
   ]
  },
  {
   "cell_type": "markdown",
   "id": "f7886cc9-a2a3-4bc4-884a-0f7835d7b2b3",
   "metadata": {},
   "source": [
    "Let's get the document_id for the first set of accounts at `accounts[0]`:"
   ]
  },
  {
   "cell_type": "code",
   "execution_count": 9,
   "id": "9e58ca32-15f2-4f76-96cb-4d272365f149",
   "metadata": {},
   "outputs": [
    {
     "name": "stdout",
     "output_type": "stream",
     "text": [
      "Document for file '06782942_aa_2024-07-25' of type 'application/pdf' and size 25239 is at:\n",
      "https://document-api.company-information.service.gov.uk/document/KCA3S09EKA-QQkrICYbVBAUtFVh5kKOPe7A0c434zlI/content\n"
     ]
    }
   ],
   "source": [
    "def getDocumentFromId(document_id):\n",
    "    directive = f\"document/{document_id}\"\n",
    "    url = f\"https://document-api.company-information.service.gov.uk/{directive}\"\n",
    "    return procUrl(url)\n",
    "\n",
    "doc_id = accounts[0].get('doc_id')\n",
    "d = getDocumentFromId(doc_id)\n",
    "filetype = 'application/pdf'\n",
    "filesize = d.get('resources').get('application/pdf').get('content_length')\n",
    "filename = d.get('filename')\n",
    "document_url = d.get('links').get('document')\n",
    "print(f\"Document for file '{filename}' of type '{filetype}' and size {filesize} is at:\\n{document_url}\")"
   ]
  },
  {
   "cell_type": "markdown",
   "id": "b85e6370-3937-4e32-ada0-6af1bb8f0a56",
   "metadata": {},
   "source": [
    "Now we can write a function to download the pdf document with a couple of checks on filetype and file size.  This code assumes the doc is `application/pdf`:"
   ]
  },
  {
   "cell_type": "code",
   "execution_count": 10,
   "id": "a11a9f2e-c3d1-4edb-bf9c-882ddcbec44a",
   "metadata": {},
   "outputs": [
    {
     "name": "stdout",
     "output_type": "stream",
     "text": [
      "Downloaded 06782942_aa_2024-07-25.pdf locally of size 25239 bytes\n"
     ]
    }
   ],
   "source": [
    "def get_pdf_file_size(file_path):\n",
    "    # Get the file size in bytes\n",
    "    return int(os.path.getsize(file_path))\n",
    "\n",
    "def getDocument(document_url, filename, filetype, filesize):\n",
    "    r = requests.get(document_url, auth=(API_KEY, ''))\n",
    "    if r.status_code != 200:\n",
    "        raise Exception(f\"Error {r.status_code}: '{r.text}'\")\n",
    "    doc_location = r.url\n",
    "    doc = requests.get(doc_location)\n",
    "    fname = filename + '.pdf'\n",
    "    if os.path.isfile(fname):\n",
    "        os.remove(fname)\n",
    "    with open(fname, 'wb') as f:\n",
    "        f.write(doc.content)\n",
    "    assert(filetype == 'application/pdf')\n",
    "    fsize = get_pdf_file_size(fname)\n",
    "    assert(filesize == get_pdf_file_size(fname))\n",
    "    return fname,fsize\n",
    "\n",
    "fname,fsize = getDocument(document_url, filename, filetype, filesize)\n",
    "print(f\"Downloaded {fname} locally of size {fsize} bytes\")"
   ]
  },
  {
   "cell_type": "markdown",
   "id": "e590bcfc-07bc-49c2-a6aa-9c2ecfa6a367",
   "metadata": {},
   "source": [
    "Once we have the pdf locally we can try to convert the pdf to text.  We need to use the open source `tesseract` OCR engine and `poppler` pdf renderer for this because `pymupdf` doesn't work.  In order to get this to work you will need to do the following if you are on a Mac:\n",
    "```\n",
    "$ brew install tesseract\n",
    "$ tesseract --version\n",
    "$ brew install poppler\n",
    "$ pdftoppm -h\n",
    "$ pip install pytesseract pdf2image pillow\n",
    "```"
   ]
  },
  {
   "cell_type": "markdown",
   "id": "8ed3b5b0-b834-4a08-92a4-8f3029394e62",
   "metadata": {},
   "source": [
    "Now we can run this function to convert the pdf to text.  Note that it takes 2 seconds to run:"
   ]
  },
  {
   "cell_type": "code",
   "execution_count": 11,
   "id": "9dd96b88-e546-434d-aea3-5f6926b80d0f",
   "metadata": {},
   "outputs": [
    {
     "name": "stdout",
     "output_type": "stream",
     "text": [
      "CPU times: user 47.9 ms, sys: 52.8 ms, total: 101 ms\n",
      "Wall time: 2.22 s\n"
     ]
    }
   ],
   "source": [
    "%%time\n",
    "import pytesseract\n",
    "from pdf2image import convert_from_path\n",
    "\n",
    "def pdf_to_text_with_ocr(file_path):\n",
    "    text = \"\"\n",
    "    # Convert PDF pages to images\n",
    "    images = convert_from_path(file_path)\n",
    "    for image in images:\n",
    "        # Use OCR to extract text from each image\n",
    "        text += pytesseract.image_to_string(image)\n",
    "    return text\n",
    "\n",
    "text = pdf_to_text_with_ocr(fname)"
   ]
  },
  {
   "cell_type": "markdown",
   "id": "ad8c52cd-b77c-42b4-92f4-ecb1f2747bcc",
   "metadata": {},
   "source": [
    "Let's check the first 200 characters to ensure we are on the right track:"
   ]
  },
  {
   "cell_type": "code",
   "execution_count": 12,
   "id": "43b6bf73-d4c1-47d7-9540-7c43b0464338",
   "metadata": {},
   "outputs": [
    {
     "name": "stdout",
     "output_type": "stream",
     "text": [
      "Registered number: 06782942\n",
      "\n",
      "OPPIAN SYSTEMS LIMITED\n",
      "UNAUDITED FINANCIAL STATEMENTS\n",
      "FOR THE YEAR ENDED 31 DECEMBER 2023\n",
      "\n",
      "High Royd Business Services Limited\n",
      "BBIC\n",
      "Innovation Way\n",
      "Barnsley\n",
      "South Yorkshire\n"
     ]
    }
   ],
   "source": [
    "print(text[:200])"
   ]
  },
  {
   "cell_type": "markdown",
   "id": "259765b1-038e-43b5-a0d4-ee38c358b3eb",
   "metadata": {},
   "source": [
    "Looks good!"
   ]
  },
  {
   "cell_type": "markdown",
   "id": "c5b9f05c-96e3-469b-90e2-c7a4e57d1fb4",
   "metadata": {},
   "source": [
    "We could now go further, download all the docs to do with a specific company and create a retrieval augmented generation (RAG) store to allow us to ask questions of the documents.  We would need to use a secure LLM for that.  This exercise is left for a later stage."
   ]
  }
 ],
 "metadata": {
  "kernelspec": {
   "display_name": "Python 3 (ipykernel)",
   "language": "python",
   "name": "python3"
  },
  "language_info": {
   "codemirror_mode": {
    "name": "ipython",
    "version": 3
   },
   "file_extension": ".py",
   "mimetype": "text/x-python",
   "name": "python",
   "nbconvert_exporter": "python",
   "pygments_lexer": "ipython3",
   "version": "3.11.9"
  }
 },
 "nbformat": 4,
 "nbformat_minor": 5
}
